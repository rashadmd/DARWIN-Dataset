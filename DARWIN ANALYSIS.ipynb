{
 "cells": [
  {
   "cell_type": "markdown",
   "id": "e179355a-934b-43af-b4cd-4bb22f9deb6a",
   "metadata": {
    "tags": []
   },
   "source": [
    "# Industry Seminar | Alzheimer's Disease Detection using DARWIN Dataset - Binary Classification\n",
    "\n",
    "**Team No:** 5\n",
    "\n",
    "**Members:**\n",
    "- S. Vijay Krishna Sundaran - RA2111026040042\n",
    "- Rashad Mohammed - RA2111026040027\n",
    "- Amivarsha Balaji - RA2111026040049"
   ]
  },
  {
   "cell_type": "markdown",
   "id": "1290fe48-2b3c-4681-9b21-9032a90ee7b4",
   "metadata": {
    "id": "1290fe48-2b3c-4681-9b21-9032a90ee7b4"
   },
   "source": [
    "# Dataset Description :\n",
    "The DARWIN dataset contains handwriting data which is composed of 25 handwriting tasks. The dataset was specifically designed for the early detection of Alzheimer’s disease (AD). The dataset includes data from 174 participants (89 AD patients and 85 healthy people).\n",
    "The file “DARWIN.csv” contains the acquired data. The file consists of one row for each participant plus an additional header row. The first row is the header row, the next 89 rows collect patients data, whereas the remaining 84 rows collect information from healthy people.\n",
    "The file consists of 452 columns. The first column shows participants' identifiers, whereas the last column shows the class to which each participant belongs.  This value can be equal to  'P' (Patient) or 'H' (Healthy).\n",
    "The remaining columns report the features extracted from a specific task. The tasks performed are 25, and for each task 18 features have been extracted. The column will be identified by the name of the features followed by a numeric identifier representing the task the feature is extracted. E.g., the column with the header \"total_time8\" collects the values for the \"total time\" feature extracted."
   ]
  },
  {
   "cell_type": "markdown",
   "id": "7ee4a084-3441-4870-a3df-d871f0356fda",
   "metadata": {
    "id": "7ee4a084-3441-4870-a3df-d871f0356fda",
    "tags": []
   },
   "source": [
    "# Importing Libraries"
   ]
  },
  {
   "cell_type": "code",
   "execution_count": 1,
   "id": "e2a2c406-f371-4405-a7da-3cbae7a08fb9",
   "metadata": {
    "id": "e2a2c406-f371-4405-a7da-3cbae7a08fb9",
    "tags": []
   },
   "outputs": [],
   "source": [
    "import pandas as pd\n",
    "import numpy as np\n",
    "import seaborn as sns\n",
    "import matplotlib.pyplot as plt\n",
    "%matplotlib inline\n",
    "from sklearn.model_selection import train_test_split\n",
    "from sklearn.metrics import recall_score, precision_score, f1_score, accuracy_score, classification_report\n",
    "from sklearn.decomposition import PCA\n",
    "from sklearn.preprocessing import StandardScaler\n",
    "import xgboost as xgb\n",
    "from catboost import CatBoostClassifier\n",
    "from sklearn.preprocessing import LabelEncoder"
   ]
  },
  {
   "cell_type": "markdown",
   "id": "55191436-82f8-4adb-b3e2-66a6300236bd",
   "metadata": {
    "id": "55191436-82f8-4adb-b3e2-66a6300236bd"
   },
   "source": [
    "# Importing Dataset"
   ]
  },
  {
   "cell_type": "code",
   "execution_count": 2,
   "id": "0b26eb7f-466d-49ee-97f7-2c1f682ec707",
   "metadata": {
    "colab": {
     "base_uri": "https://localhost:8080/",
     "height": 333
    },
    "id": "0b26eb7f-466d-49ee-97f7-2c1f682ec707",
    "outputId": "99a9b254-90b7-48a4-a831-b835f116b001",
    "tags": []
   },
   "outputs": [],
   "source": [
    "darwin=pd.read_csv('DARWIN.csv') #Reads and imports the dataset"
   ]
  },
  {
   "cell_type": "markdown",
   "id": "d78442f6-6730-4ffb-8109-75d5c35f1571",
   "metadata": {
    "id": "d78442f6-6730-4ffb-8109-75d5c35f1571",
    "tags": []
   },
   "source": [
    "# Data Overview"
   ]
  },
  {
   "cell_type": "code",
   "execution_count": 3,
   "id": "99a36ce9-1dfc-4422-9a13-8cef86c084f2",
   "metadata": {
    "id": "99a36ce9-1dfc-4422-9a13-8cef86c084f2",
    "tags": []
   },
   "outputs": [
    {
     "data": {
      "text/plain": [
       "(174, 452)"
      ]
     },
     "execution_count": 3,
     "metadata": {},
     "output_type": "execute_result"
    }
   ],
   "source": [
    "darwin.shape #Prints the dimensions of the dataset"
   ]
  },
  {
   "cell_type": "code",
   "execution_count": 4,
   "id": "3a853c53-613b-4ec1-934b-87aa82847474",
   "metadata": {
    "id": "3a853c53-613b-4ec1-934b-87aa82847474",
    "tags": []
   },
   "outputs": [
    {
     "data": {
      "text/html": [
       "<div>\n",
       "<style scoped>\n",
       "    .dataframe tbody tr th:only-of-type {\n",
       "        vertical-align: middle;\n",
       "    }\n",
       "\n",
       "    .dataframe tbody tr th {\n",
       "        vertical-align: top;\n",
       "    }\n",
       "\n",
       "    .dataframe thead th {\n",
       "        text-align: right;\n",
       "    }\n",
       "</style>\n",
       "<table border=\"1\" class=\"dataframe\">\n",
       "  <thead>\n",
       "    <tr style=\"text-align: right;\">\n",
       "      <th></th>\n",
       "      <th>ID</th>\n",
       "      <th>air_time1</th>\n",
       "      <th>disp_index1</th>\n",
       "      <th>gmrt_in_air1</th>\n",
       "      <th>gmrt_on_paper1</th>\n",
       "      <th>max_x_extension1</th>\n",
       "      <th>max_y_extension1</th>\n",
       "      <th>mean_acc_in_air1</th>\n",
       "      <th>mean_acc_on_paper1</th>\n",
       "      <th>mean_gmrt1</th>\n",
       "      <th>...</th>\n",
       "      <th>mean_jerk_in_air25</th>\n",
       "      <th>mean_jerk_on_paper25</th>\n",
       "      <th>mean_speed_in_air25</th>\n",
       "      <th>mean_speed_on_paper25</th>\n",
       "      <th>num_of_pendown25</th>\n",
       "      <th>paper_time25</th>\n",
       "      <th>pressure_mean25</th>\n",
       "      <th>pressure_var25</th>\n",
       "      <th>total_time25</th>\n",
       "      <th>class</th>\n",
       "    </tr>\n",
       "  </thead>\n",
       "  <tbody>\n",
       "    <tr>\n",
       "      <th>0</th>\n",
       "      <td>id_1</td>\n",
       "      <td>5160</td>\n",
       "      <td>0.000013</td>\n",
       "      <td>120.804174</td>\n",
       "      <td>86.853334</td>\n",
       "      <td>957</td>\n",
       "      <td>6601</td>\n",
       "      <td>0.361800</td>\n",
       "      <td>0.217459</td>\n",
       "      <td>103.828754</td>\n",
       "      <td>...</td>\n",
       "      <td>0.141434</td>\n",
       "      <td>0.024471</td>\n",
       "      <td>5.596487</td>\n",
       "      <td>3.184589</td>\n",
       "      <td>71</td>\n",
       "      <td>40120</td>\n",
       "      <td>1749.278166</td>\n",
       "      <td>296102.7676</td>\n",
       "      <td>144605</td>\n",
       "      <td>P</td>\n",
       "    </tr>\n",
       "    <tr>\n",
       "      <th>1</th>\n",
       "      <td>id_2</td>\n",
       "      <td>51980</td>\n",
       "      <td>0.000016</td>\n",
       "      <td>115.318238</td>\n",
       "      <td>83.448681</td>\n",
       "      <td>1694</td>\n",
       "      <td>6998</td>\n",
       "      <td>0.272513</td>\n",
       "      <td>0.144880</td>\n",
       "      <td>99.383459</td>\n",
       "      <td>...</td>\n",
       "      <td>0.049663</td>\n",
       "      <td>0.018368</td>\n",
       "      <td>1.665973</td>\n",
       "      <td>0.950249</td>\n",
       "      <td>129</td>\n",
       "      <td>126700</td>\n",
       "      <td>1504.768272</td>\n",
       "      <td>278744.2850</td>\n",
       "      <td>298640</td>\n",
       "      <td>P</td>\n",
       "    </tr>\n",
       "    <tr>\n",
       "      <th>2</th>\n",
       "      <td>id_3</td>\n",
       "      <td>2600</td>\n",
       "      <td>0.000010</td>\n",
       "      <td>229.933997</td>\n",
       "      <td>172.761858</td>\n",
       "      <td>2333</td>\n",
       "      <td>5802</td>\n",
       "      <td>0.387020</td>\n",
       "      <td>0.181342</td>\n",
       "      <td>201.347928</td>\n",
       "      <td>...</td>\n",
       "      <td>0.178194</td>\n",
       "      <td>0.017174</td>\n",
       "      <td>4.000781</td>\n",
       "      <td>2.392521</td>\n",
       "      <td>74</td>\n",
       "      <td>45480</td>\n",
       "      <td>1431.443492</td>\n",
       "      <td>144411.7055</td>\n",
       "      <td>79025</td>\n",
       "      <td>P</td>\n",
       "    </tr>\n",
       "    <tr>\n",
       "      <th>3</th>\n",
       "      <td>id_4</td>\n",
       "      <td>2130</td>\n",
       "      <td>0.000010</td>\n",
       "      <td>369.403342</td>\n",
       "      <td>183.193104</td>\n",
       "      <td>1756</td>\n",
       "      <td>8159</td>\n",
       "      <td>0.556879</td>\n",
       "      <td>0.164502</td>\n",
       "      <td>276.298223</td>\n",
       "      <td>...</td>\n",
       "      <td>0.113905</td>\n",
       "      <td>0.019860</td>\n",
       "      <td>4.206746</td>\n",
       "      <td>1.613522</td>\n",
       "      <td>123</td>\n",
       "      <td>67945</td>\n",
       "      <td>1465.843329</td>\n",
       "      <td>230184.7154</td>\n",
       "      <td>181220</td>\n",
       "      <td>P</td>\n",
       "    </tr>\n",
       "    <tr>\n",
       "      <th>4</th>\n",
       "      <td>id_5</td>\n",
       "      <td>2310</td>\n",
       "      <td>0.000007</td>\n",
       "      <td>257.997131</td>\n",
       "      <td>111.275889</td>\n",
       "      <td>987</td>\n",
       "      <td>4732</td>\n",
       "      <td>0.266077</td>\n",
       "      <td>0.145104</td>\n",
       "      <td>184.636510</td>\n",
       "      <td>...</td>\n",
       "      <td>0.121782</td>\n",
       "      <td>0.020872</td>\n",
       "      <td>3.319036</td>\n",
       "      <td>1.680629</td>\n",
       "      <td>92</td>\n",
       "      <td>37285</td>\n",
       "      <td>1841.702561</td>\n",
       "      <td>158290.0255</td>\n",
       "      <td>72575</td>\n",
       "      <td>P</td>\n",
       "    </tr>\n",
       "  </tbody>\n",
       "</table>\n",
       "<p>5 rows × 452 columns</p>\n",
       "</div>"
      ],
      "text/plain": [
       "     ID  air_time1  disp_index1  gmrt_in_air1  gmrt_on_paper1  \\\n",
       "0  id_1       5160     0.000013    120.804174       86.853334   \n",
       "1  id_2      51980     0.000016    115.318238       83.448681   \n",
       "2  id_3       2600     0.000010    229.933997      172.761858   \n",
       "3  id_4       2130     0.000010    369.403342      183.193104   \n",
       "4  id_5       2310     0.000007    257.997131      111.275889   \n",
       "\n",
       "   max_x_extension1  max_y_extension1  mean_acc_in_air1  mean_acc_on_paper1  \\\n",
       "0               957              6601          0.361800            0.217459   \n",
       "1              1694              6998          0.272513            0.144880   \n",
       "2              2333              5802          0.387020            0.181342   \n",
       "3              1756              8159          0.556879            0.164502   \n",
       "4               987              4732          0.266077            0.145104   \n",
       "\n",
       "   mean_gmrt1  ...  mean_jerk_in_air25  mean_jerk_on_paper25  \\\n",
       "0  103.828754  ...            0.141434              0.024471   \n",
       "1   99.383459  ...            0.049663              0.018368   \n",
       "2  201.347928  ...            0.178194              0.017174   \n",
       "3  276.298223  ...            0.113905              0.019860   \n",
       "4  184.636510  ...            0.121782              0.020872   \n",
       "\n",
       "   mean_speed_in_air25  mean_speed_on_paper25  num_of_pendown25  paper_time25  \\\n",
       "0             5.596487               3.184589                71         40120   \n",
       "1             1.665973               0.950249               129        126700   \n",
       "2             4.000781               2.392521                74         45480   \n",
       "3             4.206746               1.613522               123         67945   \n",
       "4             3.319036               1.680629                92         37285   \n",
       "\n",
       "   pressure_mean25  pressure_var25  total_time25  class  \n",
       "0      1749.278166     296102.7676        144605      P  \n",
       "1      1504.768272     278744.2850        298640      P  \n",
       "2      1431.443492     144411.7055         79025      P  \n",
       "3      1465.843329     230184.7154        181220      P  \n",
       "4      1841.702561     158290.0255         72575      P  \n",
       "\n",
       "[5 rows x 452 columns]"
      ]
     },
     "execution_count": 4,
     "metadata": {},
     "output_type": "execute_result"
    }
   ],
   "source": [
    "darwin.head() #Prints the first five rows of the dataset"
   ]
  },
  {
   "cell_type": "code",
   "execution_count": 5,
   "id": "deae01f1-adf2-4ae0-bb34-ef17e805f385",
   "metadata": {
    "id": "deae01f1-adf2-4ae0-bb34-ef17e805f385",
    "tags": []
   },
   "outputs": [
    {
     "data": {
      "text/html": [
       "<div>\n",
       "<style scoped>\n",
       "    .dataframe tbody tr th:only-of-type {\n",
       "        vertical-align: middle;\n",
       "    }\n",
       "\n",
       "    .dataframe tbody tr th {\n",
       "        vertical-align: top;\n",
       "    }\n",
       "\n",
       "    .dataframe thead th {\n",
       "        text-align: right;\n",
       "    }\n",
       "</style>\n",
       "<table border=\"1\" class=\"dataframe\">\n",
       "  <thead>\n",
       "    <tr style=\"text-align: right;\">\n",
       "      <th></th>\n",
       "      <th>ID</th>\n",
       "      <th>air_time1</th>\n",
       "      <th>disp_index1</th>\n",
       "      <th>gmrt_in_air1</th>\n",
       "      <th>gmrt_on_paper1</th>\n",
       "      <th>max_x_extension1</th>\n",
       "      <th>max_y_extension1</th>\n",
       "      <th>mean_acc_in_air1</th>\n",
       "      <th>mean_acc_on_paper1</th>\n",
       "      <th>mean_gmrt1</th>\n",
       "      <th>...</th>\n",
       "      <th>mean_jerk_in_air25</th>\n",
       "      <th>mean_jerk_on_paper25</th>\n",
       "      <th>mean_speed_in_air25</th>\n",
       "      <th>mean_speed_on_paper25</th>\n",
       "      <th>num_of_pendown25</th>\n",
       "      <th>paper_time25</th>\n",
       "      <th>pressure_mean25</th>\n",
       "      <th>pressure_var25</th>\n",
       "      <th>total_time25</th>\n",
       "      <th>class</th>\n",
       "    </tr>\n",
       "  </thead>\n",
       "  <tbody>\n",
       "    <tr>\n",
       "      <th>169</th>\n",
       "      <td>id_170</td>\n",
       "      <td>2930</td>\n",
       "      <td>0.000010</td>\n",
       "      <td>241.736477</td>\n",
       "      <td>176.115957</td>\n",
       "      <td>1839</td>\n",
       "      <td>6439</td>\n",
       "      <td>0.253347</td>\n",
       "      <td>0.174663</td>\n",
       "      <td>208.926217</td>\n",
       "      <td>...</td>\n",
       "      <td>0.119152</td>\n",
       "      <td>0.020909</td>\n",
       "      <td>4.508709</td>\n",
       "      <td>2.233198</td>\n",
       "      <td>96</td>\n",
       "      <td>44545</td>\n",
       "      <td>1798.923336</td>\n",
       "      <td>247448.3108</td>\n",
       "      <td>80335</td>\n",
       "      <td>H</td>\n",
       "    </tr>\n",
       "    <tr>\n",
       "      <th>170</th>\n",
       "      <td>id_171</td>\n",
       "      <td>2140</td>\n",
       "      <td>0.000009</td>\n",
       "      <td>274.728964</td>\n",
       "      <td>234.495802</td>\n",
       "      <td>2053</td>\n",
       "      <td>8487</td>\n",
       "      <td>0.225537</td>\n",
       "      <td>0.174920</td>\n",
       "      <td>254.612383</td>\n",
       "      <td>...</td>\n",
       "      <td>0.174495</td>\n",
       "      <td>0.017640</td>\n",
       "      <td>4.685573</td>\n",
       "      <td>2.806888</td>\n",
       "      <td>84</td>\n",
       "      <td>37560</td>\n",
       "      <td>1725.619941</td>\n",
       "      <td>160664.6464</td>\n",
       "      <td>345835</td>\n",
       "      <td>H</td>\n",
       "    </tr>\n",
       "    <tr>\n",
       "      <th>171</th>\n",
       "      <td>id_172</td>\n",
       "      <td>3830</td>\n",
       "      <td>0.000008</td>\n",
       "      <td>151.536989</td>\n",
       "      <td>171.104693</td>\n",
       "      <td>1287</td>\n",
       "      <td>7352</td>\n",
       "      <td>0.165480</td>\n",
       "      <td>0.161058</td>\n",
       "      <td>161.320841</td>\n",
       "      <td>...</td>\n",
       "      <td>0.114472</td>\n",
       "      <td>0.017194</td>\n",
       "      <td>3.493815</td>\n",
       "      <td>2.510601</td>\n",
       "      <td>88</td>\n",
       "      <td>51675</td>\n",
       "      <td>1915.573488</td>\n",
       "      <td>128727.1241</td>\n",
       "      <td>83445</td>\n",
       "      <td>H</td>\n",
       "    </tr>\n",
       "    <tr>\n",
       "      <th>172</th>\n",
       "      <td>id_173</td>\n",
       "      <td>1760</td>\n",
       "      <td>0.000008</td>\n",
       "      <td>289.518195</td>\n",
       "      <td>196.411138</td>\n",
       "      <td>1674</td>\n",
       "      <td>6946</td>\n",
       "      <td>0.518937</td>\n",
       "      <td>0.202613</td>\n",
       "      <td>242.964666</td>\n",
       "      <td>...</td>\n",
       "      <td>0.114472</td>\n",
       "      <td>0.017194</td>\n",
       "      <td>3.493815</td>\n",
       "      <td>2.510601</td>\n",
       "      <td>88</td>\n",
       "      <td>51675</td>\n",
       "      <td>1915.573488</td>\n",
       "      <td>128727.1241</td>\n",
       "      <td>83445</td>\n",
       "      <td>H</td>\n",
       "    </tr>\n",
       "    <tr>\n",
       "      <th>173</th>\n",
       "      <td>id_174</td>\n",
       "      <td>2875</td>\n",
       "      <td>0.000008</td>\n",
       "      <td>235.769350</td>\n",
       "      <td>178.208024</td>\n",
       "      <td>1838</td>\n",
       "      <td>6560</td>\n",
       "      <td>0.567311</td>\n",
       "      <td>0.147818</td>\n",
       "      <td>206.988687</td>\n",
       "      <td>...</td>\n",
       "      <td>0.114472</td>\n",
       "      <td>0.017194</td>\n",
       "      <td>3.493815</td>\n",
       "      <td>2.510601</td>\n",
       "      <td>88</td>\n",
       "      <td>51675</td>\n",
       "      <td>1915.573488</td>\n",
       "      <td>128727.1241</td>\n",
       "      <td>83445</td>\n",
       "      <td>H</td>\n",
       "    </tr>\n",
       "  </tbody>\n",
       "</table>\n",
       "<p>5 rows × 452 columns</p>\n",
       "</div>"
      ],
      "text/plain": [
       "         ID  air_time1  disp_index1  gmrt_in_air1  gmrt_on_paper1  \\\n",
       "169  id_170       2930     0.000010    241.736477      176.115957   \n",
       "170  id_171       2140     0.000009    274.728964      234.495802   \n",
       "171  id_172       3830     0.000008    151.536989      171.104693   \n",
       "172  id_173       1760     0.000008    289.518195      196.411138   \n",
       "173  id_174       2875     0.000008    235.769350      178.208024   \n",
       "\n",
       "     max_x_extension1  max_y_extension1  mean_acc_in_air1  mean_acc_on_paper1  \\\n",
       "169              1839              6439          0.253347            0.174663   \n",
       "170              2053              8487          0.225537            0.174920   \n",
       "171              1287              7352          0.165480            0.161058   \n",
       "172              1674              6946          0.518937            0.202613   \n",
       "173              1838              6560          0.567311            0.147818   \n",
       "\n",
       "     mean_gmrt1  ...  mean_jerk_in_air25  mean_jerk_on_paper25  \\\n",
       "169  208.926217  ...            0.119152              0.020909   \n",
       "170  254.612383  ...            0.174495              0.017640   \n",
       "171  161.320841  ...            0.114472              0.017194   \n",
       "172  242.964666  ...            0.114472              0.017194   \n",
       "173  206.988687  ...            0.114472              0.017194   \n",
       "\n",
       "     mean_speed_in_air25  mean_speed_on_paper25  num_of_pendown25  \\\n",
       "169             4.508709               2.233198                96   \n",
       "170             4.685573               2.806888                84   \n",
       "171             3.493815               2.510601                88   \n",
       "172             3.493815               2.510601                88   \n",
       "173             3.493815               2.510601                88   \n",
       "\n",
       "     paper_time25  pressure_mean25  pressure_var25  total_time25  class  \n",
       "169         44545      1798.923336     247448.3108         80335      H  \n",
       "170         37560      1725.619941     160664.6464        345835      H  \n",
       "171         51675      1915.573488     128727.1241         83445      H  \n",
       "172         51675      1915.573488     128727.1241         83445      H  \n",
       "173         51675      1915.573488     128727.1241         83445      H  \n",
       "\n",
       "[5 rows x 452 columns]"
      ]
     },
     "execution_count": 5,
     "metadata": {},
     "output_type": "execute_result"
    }
   ],
   "source": [
    "darwin.tail() #Prints the last five rows of the dataset"
   ]
  },
  {
   "cell_type": "code",
   "execution_count": 6,
   "id": "86156f7c-1fd5-4804-bcf8-c5f1fc5755d6",
   "metadata": {
    "id": "86156f7c-1fd5-4804-bcf8-c5f1fc5755d6",
    "tags": []
   },
   "outputs": [
    {
     "name": "stdout",
     "output_type": "stream",
     "text": [
      "<class 'pandas.core.frame.DataFrame'>\n",
      "RangeIndex: 174 entries, 0 to 173\n",
      "Columns: 452 entries, ID to class\n",
      "dtypes: float64(300), int64(150), object(2)\n",
      "memory usage: 614.6+ KB\n"
     ]
    }
   ],
   "source": [
    "darwin.info() #Prints the number of dimensions, various datatypes, and the memory usage in the dataset"
   ]
  },
  {
   "cell_type": "code",
   "execution_count": 7,
   "id": "61355f0d-5255-45c5-b01a-86db20af59a3",
   "metadata": {
    "id": "61355f0d-5255-45c5-b01a-86db20af59a3",
    "tags": []
   },
   "outputs": [
    {
     "data": {
      "text/plain": [
       "ID                  object\n",
       "air_time1            int64\n",
       "disp_index1        float64\n",
       "gmrt_in_air1       float64\n",
       "gmrt_on_paper1     float64\n",
       "                    ...   \n",
       "paper_time25         int64\n",
       "pressure_mean25    float64\n",
       "pressure_var25     float64\n",
       "total_time25         int64\n",
       "class               object\n",
       "Length: 452, dtype: object"
      ]
     },
     "execution_count": 7,
     "metadata": {},
     "output_type": "execute_result"
    }
   ],
   "source": [
    "darwin.dtypes #Prints the datatype of each column in the dataset"
   ]
  },
  {
   "cell_type": "markdown",
   "id": "fb4c38e3-9ed6-4246-888f-7a60213a0f59",
   "metadata": {
    "id": "fb4c38e3-9ed6-4246-888f-7a60213a0f59"
   },
   "source": [
    "# Summary Statistics"
   ]
  },
  {
   "cell_type": "code",
   "execution_count": 8,
   "id": "eda38065-9fd7-4d5e-9492-61fcee482211",
   "metadata": {
    "id": "eda38065-9fd7-4d5e-9492-61fcee482211",
    "tags": []
   },
   "outputs": [
    {
     "data": {
      "text/html": [
       "<div>\n",
       "<style scoped>\n",
       "    .dataframe tbody tr th:only-of-type {\n",
       "        vertical-align: middle;\n",
       "    }\n",
       "\n",
       "    .dataframe tbody tr th {\n",
       "        vertical-align: top;\n",
       "    }\n",
       "\n",
       "    .dataframe thead th {\n",
       "        text-align: right;\n",
       "    }\n",
       "</style>\n",
       "<table border=\"1\" class=\"dataframe\">\n",
       "  <thead>\n",
       "    <tr style=\"text-align: right;\">\n",
       "      <th></th>\n",
       "      <th>air_time1</th>\n",
       "      <th>disp_index1</th>\n",
       "      <th>gmrt_in_air1</th>\n",
       "      <th>gmrt_on_paper1</th>\n",
       "      <th>max_x_extension1</th>\n",
       "      <th>max_y_extension1</th>\n",
       "      <th>mean_acc_in_air1</th>\n",
       "      <th>mean_acc_on_paper1</th>\n",
       "      <th>mean_gmrt1</th>\n",
       "      <th>mean_jerk_in_air1</th>\n",
       "      <th>...</th>\n",
       "      <th>mean_gmrt25</th>\n",
       "      <th>mean_jerk_in_air25</th>\n",
       "      <th>mean_jerk_on_paper25</th>\n",
       "      <th>mean_speed_in_air25</th>\n",
       "      <th>mean_speed_on_paper25</th>\n",
       "      <th>num_of_pendown25</th>\n",
       "      <th>paper_time25</th>\n",
       "      <th>pressure_mean25</th>\n",
       "      <th>pressure_var25</th>\n",
       "      <th>total_time25</th>\n",
       "    </tr>\n",
       "  </thead>\n",
       "  <tbody>\n",
       "    <tr>\n",
       "      <th>count</th>\n",
       "      <td>174.000000</td>\n",
       "      <td>174.000000</td>\n",
       "      <td>174.000000</td>\n",
       "      <td>174.000000</td>\n",
       "      <td>174.000000</td>\n",
       "      <td>174.000000</td>\n",
       "      <td>174.000000</td>\n",
       "      <td>174.000000</td>\n",
       "      <td>174.000000</td>\n",
       "      <td>174.000000</td>\n",
       "      <td>...</td>\n",
       "      <td>174.000000</td>\n",
       "      <td>174.000000</td>\n",
       "      <td>174.000000</td>\n",
       "      <td>174.000000</td>\n",
       "      <td>174.000000</td>\n",
       "      <td>174.000000</td>\n",
       "      <td>174.000000</td>\n",
       "      <td>174.000000</td>\n",
       "      <td>174.000000</td>\n",
       "      <td>1.740000e+02</td>\n",
       "    </tr>\n",
       "    <tr>\n",
       "      <th>mean</th>\n",
       "      <td>5664.166667</td>\n",
       "      <td>0.000010</td>\n",
       "      <td>297.666685</td>\n",
       "      <td>200.504413</td>\n",
       "      <td>1977.965517</td>\n",
       "      <td>7323.896552</td>\n",
       "      <td>0.416374</td>\n",
       "      <td>0.179823</td>\n",
       "      <td>249.085549</td>\n",
       "      <td>0.067556</td>\n",
       "      <td>...</td>\n",
       "      <td>221.360646</td>\n",
       "      <td>0.148286</td>\n",
       "      <td>0.019934</td>\n",
       "      <td>4.472643</td>\n",
       "      <td>2.871613</td>\n",
       "      <td>85.839080</td>\n",
       "      <td>43109.712644</td>\n",
       "      <td>1629.585962</td>\n",
       "      <td>163061.767360</td>\n",
       "      <td>1.642033e+05</td>\n",
       "    </tr>\n",
       "    <tr>\n",
       "      <th>std</th>\n",
       "      <td>12653.772746</td>\n",
       "      <td>0.000003</td>\n",
       "      <td>183.943181</td>\n",
       "      <td>111.629546</td>\n",
       "      <td>1648.306365</td>\n",
       "      <td>2188.290512</td>\n",
       "      <td>0.381837</td>\n",
       "      <td>0.064693</td>\n",
       "      <td>132.698462</td>\n",
       "      <td>0.074776</td>\n",
       "      <td>...</td>\n",
       "      <td>63.762013</td>\n",
       "      <td>0.062207</td>\n",
       "      <td>0.002388</td>\n",
       "      <td>1.501411</td>\n",
       "      <td>0.852809</td>\n",
       "      <td>27.485518</td>\n",
       "      <td>19092.024337</td>\n",
       "      <td>324.142316</td>\n",
       "      <td>56845.610814</td>\n",
       "      <td>4.969397e+05</td>\n",
       "    </tr>\n",
       "    <tr>\n",
       "      <th>min</th>\n",
       "      <td>65.000000</td>\n",
       "      <td>0.000002</td>\n",
       "      <td>28.734515</td>\n",
       "      <td>29.935835</td>\n",
       "      <td>754.000000</td>\n",
       "      <td>561.000000</td>\n",
       "      <td>0.067748</td>\n",
       "      <td>0.096631</td>\n",
       "      <td>41.199445</td>\n",
       "      <td>0.011861</td>\n",
       "      <td>...</td>\n",
       "      <td>69.928033</td>\n",
       "      <td>0.030169</td>\n",
       "      <td>0.014987</td>\n",
       "      <td>1.323565</td>\n",
       "      <td>0.950249</td>\n",
       "      <td>32.000000</td>\n",
       "      <td>15930.000000</td>\n",
       "      <td>474.049462</td>\n",
       "      <td>26984.926660</td>\n",
       "      <td>2.998000e+04</td>\n",
       "    </tr>\n",
       "    <tr>\n",
       "      <th>25%</th>\n",
       "      <td>1697.500000</td>\n",
       "      <td>0.000008</td>\n",
       "      <td>174.153023</td>\n",
       "      <td>136.524742</td>\n",
       "      <td>1362.500000</td>\n",
       "      <td>6124.000000</td>\n",
       "      <td>0.218209</td>\n",
       "      <td>0.146647</td>\n",
       "      <td>161.136182</td>\n",
       "      <td>0.029523</td>\n",
       "      <td>...</td>\n",
       "      <td>178.798382</td>\n",
       "      <td>0.107732</td>\n",
       "      <td>0.018301</td>\n",
       "      <td>3.485934</td>\n",
       "      <td>2.401199</td>\n",
       "      <td>66.000000</td>\n",
       "      <td>32803.750000</td>\n",
       "      <td>1499.112088</td>\n",
       "      <td>120099.046800</td>\n",
       "      <td>5.917500e+04</td>\n",
       "    </tr>\n",
       "    <tr>\n",
       "      <th>50%</th>\n",
       "      <td>2890.000000</td>\n",
       "      <td>0.000009</td>\n",
       "      <td>255.791452</td>\n",
       "      <td>176.494494</td>\n",
       "      <td>1681.000000</td>\n",
       "      <td>6975.500000</td>\n",
       "      <td>0.275184</td>\n",
       "      <td>0.163659</td>\n",
       "      <td>224.445268</td>\n",
       "      <td>0.039233</td>\n",
       "      <td>...</td>\n",
       "      <td>217.431621</td>\n",
       "      <td>0.140483</td>\n",
       "      <td>0.019488</td>\n",
       "      <td>4.510578</td>\n",
       "      <td>2.830672</td>\n",
       "      <td>81.000000</td>\n",
       "      <td>37312.500000</td>\n",
       "      <td>1729.385010</td>\n",
       "      <td>158236.771800</td>\n",
       "      <td>7.611500e+04</td>\n",
       "    </tr>\n",
       "    <tr>\n",
       "      <th>75%</th>\n",
       "      <td>4931.250000</td>\n",
       "      <td>0.000011</td>\n",
       "      <td>358.917885</td>\n",
       "      <td>234.052560</td>\n",
       "      <td>2082.750000</td>\n",
       "      <td>8298.500000</td>\n",
       "      <td>0.442706</td>\n",
       "      <td>0.188879</td>\n",
       "      <td>294.392298</td>\n",
       "      <td>0.071057</td>\n",
       "      <td>...</td>\n",
       "      <td>264.310776</td>\n",
       "      <td>0.199168</td>\n",
       "      <td>0.021134</td>\n",
       "      <td>5.212794</td>\n",
       "      <td>3.335828</td>\n",
       "      <td>101.500000</td>\n",
       "      <td>46533.750000</td>\n",
       "      <td>1865.626974</td>\n",
       "      <td>200921.078475</td>\n",
       "      <td>1.275425e+05</td>\n",
       "    </tr>\n",
       "    <tr>\n",
       "      <th>max</th>\n",
       "      <td>109965.000000</td>\n",
       "      <td>0.000028</td>\n",
       "      <td>1168.328276</td>\n",
       "      <td>865.210522</td>\n",
       "      <td>18602.000000</td>\n",
       "      <td>15783.000000</td>\n",
       "      <td>2.772566</td>\n",
       "      <td>0.627350</td>\n",
       "      <td>836.784702</td>\n",
       "      <td>0.543199</td>\n",
       "      <td>...</td>\n",
       "      <td>437.373267</td>\n",
       "      <td>0.375078</td>\n",
       "      <td>0.029227</td>\n",
       "      <td>10.416715</td>\n",
       "      <td>5.602909</td>\n",
       "      <td>209.000000</td>\n",
       "      <td>139575.000000</td>\n",
       "      <td>1999.775983</td>\n",
       "      <td>352981.850000</td>\n",
       "      <td>5.704200e+06</td>\n",
       "    </tr>\n",
       "  </tbody>\n",
       "</table>\n",
       "<p>8 rows × 450 columns</p>\n",
       "</div>"
      ],
      "text/plain": [
       "           air_time1  disp_index1  gmrt_in_air1  gmrt_on_paper1  \\\n",
       "count     174.000000   174.000000    174.000000      174.000000   \n",
       "mean     5664.166667     0.000010    297.666685      200.504413   \n",
       "std     12653.772746     0.000003    183.943181      111.629546   \n",
       "min        65.000000     0.000002     28.734515       29.935835   \n",
       "25%      1697.500000     0.000008    174.153023      136.524742   \n",
       "50%      2890.000000     0.000009    255.791452      176.494494   \n",
       "75%      4931.250000     0.000011    358.917885      234.052560   \n",
       "max    109965.000000     0.000028   1168.328276      865.210522   \n",
       "\n",
       "       max_x_extension1  max_y_extension1  mean_acc_in_air1  \\\n",
       "count        174.000000        174.000000        174.000000   \n",
       "mean        1977.965517       7323.896552          0.416374   \n",
       "std         1648.306365       2188.290512          0.381837   \n",
       "min          754.000000        561.000000          0.067748   \n",
       "25%         1362.500000       6124.000000          0.218209   \n",
       "50%         1681.000000       6975.500000          0.275184   \n",
       "75%         2082.750000       8298.500000          0.442706   \n",
       "max        18602.000000      15783.000000          2.772566   \n",
       "\n",
       "       mean_acc_on_paper1  mean_gmrt1  mean_jerk_in_air1  ...  mean_gmrt25  \\\n",
       "count          174.000000  174.000000         174.000000  ...   174.000000   \n",
       "mean             0.179823  249.085549           0.067556  ...   221.360646   \n",
       "std              0.064693  132.698462           0.074776  ...    63.762013   \n",
       "min              0.096631   41.199445           0.011861  ...    69.928033   \n",
       "25%              0.146647  161.136182           0.029523  ...   178.798382   \n",
       "50%              0.163659  224.445268           0.039233  ...   217.431621   \n",
       "75%              0.188879  294.392298           0.071057  ...   264.310776   \n",
       "max              0.627350  836.784702           0.543199  ...   437.373267   \n",
       "\n",
       "       mean_jerk_in_air25  mean_jerk_on_paper25  mean_speed_in_air25  \\\n",
       "count          174.000000            174.000000           174.000000   \n",
       "mean             0.148286              0.019934             4.472643   \n",
       "std              0.062207              0.002388             1.501411   \n",
       "min              0.030169              0.014987             1.323565   \n",
       "25%              0.107732              0.018301             3.485934   \n",
       "50%              0.140483              0.019488             4.510578   \n",
       "75%              0.199168              0.021134             5.212794   \n",
       "max              0.375078              0.029227            10.416715   \n",
       "\n",
       "       mean_speed_on_paper25  num_of_pendown25   paper_time25  \\\n",
       "count             174.000000        174.000000     174.000000   \n",
       "mean                2.871613         85.839080   43109.712644   \n",
       "std                 0.852809         27.485518   19092.024337   \n",
       "min                 0.950249         32.000000   15930.000000   \n",
       "25%                 2.401199         66.000000   32803.750000   \n",
       "50%                 2.830672         81.000000   37312.500000   \n",
       "75%                 3.335828        101.500000   46533.750000   \n",
       "max                 5.602909        209.000000  139575.000000   \n",
       "\n",
       "       pressure_mean25  pressure_var25  total_time25  \n",
       "count       174.000000      174.000000  1.740000e+02  \n",
       "mean       1629.585962   163061.767360  1.642033e+05  \n",
       "std         324.142316    56845.610814  4.969397e+05  \n",
       "min         474.049462    26984.926660  2.998000e+04  \n",
       "25%        1499.112088   120099.046800  5.917500e+04  \n",
       "50%        1729.385010   158236.771800  7.611500e+04  \n",
       "75%        1865.626974   200921.078475  1.275425e+05  \n",
       "max        1999.775983   352981.850000  5.704200e+06  \n",
       "\n",
       "[8 rows x 450 columns]"
      ]
     },
     "execution_count": 8,
     "metadata": {},
     "output_type": "execute_result"
    }
   ],
   "source": [
    "darwin.describe() # Show the descriptive statistics "
   ]
  },
  {
   "cell_type": "markdown",
   "id": "62aa2768-d264-4c56-b431-7bf3f02d13eb",
   "metadata": {
    "id": "62aa2768-d264-4c56-b431-7bf3f02d13eb"
   },
   "source": [
    "# Class Distribution"
   ]
  },
  {
   "cell_type": "code",
   "execution_count": 9,
   "id": "7cc341fa-f78e-4f6a-8858-1414671629a3",
   "metadata": {
    "id": "7cc341fa-f78e-4f6a-8858-1414671629a3",
    "tags": []
   },
   "outputs": [
    {
     "data": {
      "text/plain": [
       "Text(0, 0.5, 'Count')"
      ]
     },
     "execution_count": 9,
     "metadata": {},
     "output_type": "execute_result"
    },
    {
     "data": {
      "image/png": "[encoded data removed]",
      "text/plain": [
       "<Figure size 500x500 with 1 Axes>"
      ]
     },
     "metadata": {},
     "output_type": "display_data"
    }
   ],
   "source": [
    "plt.figure(figsize=(5, 5))\n",
    "sns.countplot(data=darwin, x='class', palette='Set1')\n",
    "plt.title('Class Distribution')\n",
    "plt.xlabel('Class')\n",
    "plt.ylabel('Count')"
   ]
  },
  {
   "cell_type": "markdown",
   "id": "550911a5-8bf1-49a5-962f-fba7dcaacd92",
   "metadata": {
    "id": "550911a5-8bf1-49a5-962f-fba7dcaacd92"
   },
   "source": [
    "# Error Handling"
   ]
  },
  {
   "cell_type": "code",
   "execution_count": 10,
   "id": "cbd790bc-ef52-4dc9-904d-57f9b2b10656",
   "metadata": {
    "id": "cbd790bc-ef52-4dc9-904d-57f9b2b10656",
    "tags": []
   },
   "outputs": [
    {
     "data": {
      "text/plain": [
       "ID                 0\n",
       "air_time1          0\n",
       "disp_index1        0\n",
       "gmrt_in_air1       0\n",
       "gmrt_on_paper1     0\n",
       "                  ..\n",
       "paper_time25       0\n",
       "pressure_mean25    0\n",
       "pressure_var25     0\n",
       "total_time25       0\n",
       "class              0\n",
       "Length: 452, dtype: int64"
      ]
     },
     "execution_count": 10,
     "metadata": {},
     "output_type": "execute_result"
    }
   ],
   "source": [
    "darwin.isnull().sum()"
   ]
  },
  {
   "cell_type": "code",
   "execution_count": 11,
   "id": "5666a45b-d850-40de-880a-2609f8a2c5f6",
   "metadata": {
    "id": "5666a45b-d850-40de-880a-2609f8a2c5f6",
    "tags": []
   },
   "outputs": [
    {
     "data": {
      "text/plain": [
       "ID                 0\n",
       "air_time1          0\n",
       "disp_index1        0\n",
       "gmrt_in_air1       0\n",
       "gmrt_on_paper1     0\n",
       "                  ..\n",
       "paper_time25       0\n",
       "pressure_mean25    0\n",
       "pressure_var25     0\n",
       "total_time25       0\n",
       "class              0\n",
       "Length: 452, dtype: int64"
      ]
     },
     "execution_count": 11,
     "metadata": {},
     "output_type": "execute_result"
    }
   ],
   "source": [
    "darwin.isna().sum()"
   ]
  },
  {
   "cell_type": "code",
   "execution_count": 12,
   "id": "f0545622-00ba-49fb-bf5e-eb2d29ccca0b",
   "metadata": {
    "id": "f0545622-00ba-49fb-bf5e-eb2d29ccca0b",
    "tags": []
   },
   "outputs": [
    {
     "name": "stdout",
     "output_type": "stream",
     "text": [
      "Dataset does not contain Null value\n"
     ]
    }
   ],
   "source": [
    "def checkNull(value, my_list):\n",
    "    if value in my_list:\n",
    "        return True\n",
    "    else:\n",
    "        return False\n",
    "\n",
    "if checkNull(1, darwin.isnull().sum()):\n",
    "    print(\"Dataset contains Null value\")\n",
    "else:\n",
    "    print(\"Dataset does not contain Null value\")"
   ]
  },
  {
   "cell_type": "code",
   "execution_count": 13,
   "id": "0e9ce2d2-27c1-4647-bd01-7a0df8bd3135",
   "metadata": {
    "id": "0e9ce2d2-27c1-4647-bd01-7a0df8bd3135",
    "tags": []
   },
   "outputs": [
    {
     "name": "stdout",
     "output_type": "stream",
     "text": [
      "Dataset does not contain NaN value\n"
     ]
    }
   ],
   "source": [
    "def checkNaN(value, my_list):\n",
    "    if value in my_list:\n",
    "        return True\n",
    "    else:\n",
    "        return False\n",
    "\n",
    "if checkNaN(1, darwin.isna().sum()):\n",
    "    print(\"Dataset contains NaN value\")\n",
    "else:\n",
    "    print(\"Dataset does not contain NaN value\")"
   ]
  },
  {
   "cell_type": "code",
   "execution_count": 14,
   "id": "7452263b-e44f-4e93-8854-2792f60c0386",
   "metadata": {
    "id": "7452263b-e44f-4e93-8854-2792f60c0386",
    "tags": []
   },
   "outputs": [
    {
     "name": "stdout",
     "output_type": "stream",
     "text": [
      "No duplicate rows found.\n"
     ]
    }
   ],
   "source": [
    "dupe_rows = darwin[darwin.duplicated()]\n",
    "\n",
    "if not dupe_rows.empty:\n",
    "    print(\"Duplicate rows found:\")\n",
    "    print(dupe_rows)\n",
    "else:\n",
    "    print(\"No duplicate rows found.\")"
   ]
  },
  {
   "cell_type": "code",
   "execution_count": 15,
   "id": "bead2dbe-29a2-41b3-9bc4-757a61ed0086",
   "metadata": {
    "id": "bead2dbe-29a2-41b3-9bc4-757a61ed0086",
    "tags": []
   },
   "outputs": [
    {
     "name": "stdout",
     "output_type": "stream",
     "text": [
      "Columns with string values:\n",
      "Index(['ID', 'class'], dtype='object')\n"
     ]
    }
   ],
   "source": [
    "string_columns = darwin.select_dtypes(include='object')\n",
    "\n",
    "if not string_columns.empty:\n",
    "    print(\"Columns with string values:\")\n",
    "    print(string_columns.columns)\n",
    "else:\n",
    "    print(\"No columns with string values found.\")"
   ]
  },
  {
   "cell_type": "markdown",
   "id": "dd7d96c2-a584-4422-b494-dd935cc1c0d4",
   "metadata": {
    "id": "dd7d96c2-a584-4422-b494-dd935cc1c0d4",
    "tags": []
   },
   "source": [
    "There are no missing values, no null values, no duplicate rows, no duplicate columns in the given dataset."
   ]
  },
  {
   "cell_type": "code",
   "execution_count": 16,
   "id": "887bb8c9-271c-423f-8302-f9b87080e458",
   "metadata": {
    "id": "887bb8c9-271c-423f-8302-f9b87080e458",
    "tags": []
   },
   "outputs": [],
   "source": [
    "darwin.drop([\"ID\"], axis=1, inplace=True)"
   ]
  },
  {
   "cell_type": "code",
   "execution_count": 17,
   "id": "82716eb2-2361-4c35-8d70-b435b6cfd1a3",
   "metadata": {
    "tags": []
   },
   "outputs": [],
   "source": [
    "# Encode the target variable 'class' ('P' for Patient, 'H' for Healthy)\n",
    "le = LabelEncoder()\n",
    "darwin['class'] = le.fit_transform(darwin['class'])"
   ]
  },
  {
   "cell_type": "markdown",
   "id": "386a1824-bda9-44d5-af5b-fb243d5cd746",
   "metadata": {},
   "source": [
    "# Feature Engineering"
   ]
  },
  {
   "cell_type": "markdown",
   "id": "795329ff",
   "metadata": {},
   "source": [
    "**Reduce High-dimensionality**\n",
    "\n",
    "**Low Variance Filtering:**"
   ]
  },
  {
   "cell_type": "code",
   "execution_count": 18,
   "id": "b893a564",
   "metadata": {},
   "outputs": [
    {
     "name": "stdout",
     "output_type": "stream",
     "text": [
      "Original DataFrame:\n",
      "451\n",
      "\n",
      "DataFrame after low variance filter:\n",
      "336\n"
     ]
    },
    {
     "data": {
      "text/plain": [
       "(174, 336)"
      ]
     },
     "execution_count": 18,
     "metadata": {},
     "output_type": "execute_result"
    }
   ],
   "source": [
    "# Calculate variance for each feature\n",
    "variances = darwin.var(numeric_only=True)\n",
    "\n",
    "# Set a threshold (experiment with different values)\n",
    "threshold = 0.15\n",
    "\n",
    "# Filter features with variance below the threshold\n",
    "low_variance_features = variances[variances <= threshold].index\n",
    "\n",
    "# Create a new DataFrame without low variance features\n",
    "darwin_filtered = darwin.drop(columns=low_variance_features)\n",
    "\n",
    "print(\"Original DataFrame:\")\n",
    "print(len(darwin.columns))\n",
    "print(\"\\nDataFrame after low variance filter:\")\n",
    "print(len(darwin_filtered.columns))\n",
    "\n",
    "# Update the darwin DataFrame to the filtered version\n",
    "darwin = darwin_filtered\n",
    "darwin.shape"
   ]
  },
  {
   "cell_type": "code",
   "execution_count": 19,
   "id": "eaf00ea8-f611-464a-871b-3901faad57f3",
   "metadata": {
    "tags": []
   },
   "outputs": [
    {
     "name": "stdout",
     "output_type": "stream",
     "text": [
      "0      1\n",
      "1      1\n",
      "2      1\n",
      "3      1\n",
      "4      1\n",
      "      ..\n",
      "169    0\n",
      "170    0\n",
      "171    0\n",
      "172    0\n",
      "173    0\n",
      "Name: class, Length: 174, dtype: int64\n"
     ]
    }
   ],
   "source": [
    "print(darwin_filtered['class'])"
   ]
  },
  {
   "cell_type": "markdown",
   "id": "e5e0900c",
   "metadata": {},
   "source": [
    "**High Correlation Filtering**"
   ]
  },
  {
   "cell_type": "code",
   "execution_count": 20,
   "id": "34a1bc12",
   "metadata": {},
   "outputs": [
    {
     "name": "stdout",
     "output_type": "stream",
     "text": [
      "Original DataFrame:\n",
      "336\n",
      "\n",
      "DataFrame after removing highly correlated features:\n",
      "231\n"
     ]
    },
    {
     "data": {
      "text/plain": [
       "(174, 231)"
      ]
     },
     "execution_count": 20,
     "metadata": {},
     "output_type": "execute_result"
    }
   ],
   "source": [
    "# Calculate correlation matrix\n",
    "correlation_matrix = darwin.corr()\n",
    "\n",
    "# Set a correlation threshold (experiment with different values)\n",
    "correlation_threshold = 0.80\n",
    "\n",
    "# Identify highly correlated pairs\n",
    "highly_correlated_pairs = np.where(np.abs(correlation_matrix) > correlation_threshold)\n",
    "\n",
    "# Create a set to keep track of features to remove\n",
    "features_to_remove = set()\n",
    "\n",
    "# Loop through the pairs and decide which features to remove\n",
    "for feature1, feature2 in zip(*highly_correlated_pairs):\n",
    "    if feature1 != feature2 and feature1 not in features_to_remove:\n",
    "        features_to_remove.add(feature2)\n",
    "\n",
    "# Convert indices to column labels\n",
    "columns_to_remove = [darwin.columns[idx] for idx in features_to_remove]\n",
    "\n",
    "# Create a new DataFrame without highly correlated features\n",
    "darwin_filtered = darwin.drop(columns=columns_to_remove)\n",
    "\n",
    "print(\"Original DataFrame:\")\n",
    "print(len(darwin.columns))\n",
    "print(\"\\nDataFrame after removing highly correlated features:\")\n",
    "print(len(darwin_filtered.columns))\n",
    "darwin_filtered.shape"
   ]
  },
  {
   "cell_type": "code",
   "execution_count": 21,
   "id": "eb381db9-dbd6-4fea-8097-627c41b599eb",
   "metadata": {
    "tags": []
   },
   "outputs": [
    {
     "name": "stdout",
     "output_type": "stream",
     "text": [
      "0      1\n",
      "1      1\n",
      "2      1\n",
      "3      1\n",
      "4      1\n",
      "      ..\n",
      "169    0\n",
      "170    0\n",
      "171    0\n",
      "172    0\n",
      "173    0\n",
      "Name: class, Length: 174, dtype: int64\n"
     ]
    }
   ],
   "source": [
    "print(darwin_filtered['class'])"
   ]
  },
  {
   "cell_type": "markdown",
   "id": "ce1c2823",
   "metadata": {},
   "source": [
    "# Principal Component Analysis(PCA)"
   ]
  },
  {
   "cell_type": "markdown",
   "id": "d7623c27-d932-466e-b49e-2eb862136192",
   "metadata": {},
   "source": [
    "# Seperate Features and Target"
   ]
  },
  {
   "cell_type": "code",
   "execution_count": 22,
   "id": "01476da7-457e-43dc-92f6-87f2afb804a9",
   "metadata": {
    "tags": []
   },
   "outputs": [
    {
     "name": "stdout",
     "output_type": "stream",
     "text": [
      "     air_time1  gmrt_in_air1  gmrt_on_paper1  max_x_extension1  \\\n",
      "0     1.976732     -0.898343        0.095552         -3.426440   \n",
      "1    13.896627     -2.081432        1.022226         -1.234792   \n",
      "2     0.224172     -2.879834       -2.644696         -2.568218   \n",
      "3     6.542050     -3.108996        1.011138         -0.710736   \n",
      "4     1.627992     -5.792173       -0.220636         -2.416276   \n",
      "..         ...           ...             ...               ...   \n",
      "169  -2.457020      1.903059       -0.539439         -2.094110   \n",
      "170  -1.501985      0.958347       -0.112847          0.730846   \n",
      "171  -0.468021     -2.403468        2.476466         -0.530545   \n",
      "172  -0.724729     -2.708894        1.951468         -0.230700   \n",
      "173  -0.583345     -2.530533        2.202213         -0.454513   \n",
      "\n",
      "     max_y_extension1  num_of_pendown1  paper_time1  pressure_mean1  \\\n",
      "0            1.630194        -6.955546    -1.771622        0.820078   \n",
      "1            9.561154        -4.982059     8.193272       -3.180620   \n",
      "2           -3.040911         1.487414     0.758244        2.151305   \n",
      "3            2.909785        -1.578442     2.673348       -1.498254   \n",
      "4            0.629102        -1.122016     1.386404        1.116929   \n",
      "..                ...              ...          ...             ...   \n",
      "169          2.639107        -0.470213     2.611414       -1.484062   \n",
      "170          2.712125         0.718924     1.222844       -1.869948   \n",
      "171          3.095384        -2.818346     2.068031       -2.196350   \n",
      "172          3.010300        -2.708513     2.155605       -1.958351   \n",
      "173          2.954942        -2.803699     2.080344       -2.137390   \n",
      "\n",
      "     pressure_var1  air_time2  ...  mean_speed_in_air5  num_of_pendown5  \\\n",
      "0        -6.770937   4.586803  ...           -0.692743        -0.267690   \n",
      "1         6.736202   5.316844  ...           -2.671802        -2.051752   \n",
      "2        -0.582741  -1.845428  ...            0.256047        -2.801297   \n",
      "3        -2.378151  -3.028650  ...            1.578703         2.410929   \n",
      "4        -2.003899  -0.564765  ...            0.417836        -0.242605   \n",
      "..             ...        ...  ...                 ...              ...   \n",
      "169      -1.297553  -1.179048  ...           -0.604416         0.009707   \n",
      "170      -0.125600  -1.836372  ...            0.466223        -0.435742   \n",
      "171       1.326824  -2.663089  ...           -0.360235         0.722296   \n",
      "172       1.551093  -3.001473  ...           -0.399513         0.519878   \n",
      "173       1.398023  -2.766331  ...           -0.814682         0.643449   \n",
      "\n",
      "     paper_time5  pressure_mean5  pressure_var5  air_time6  gmrt_in_air6  \\\n",
      "0       0.259292        0.036032      -0.050017  -0.383388      1.590873   \n",
      "1      -0.966863        2.576942      -2.567677  -0.769416      1.025273   \n",
      "2       0.673158        0.870210       3.942929  -1.112603      0.672375   \n",
      "3       0.453647        0.372336       0.709558   0.080611      0.132740   \n",
      "4       0.261272        1.362633       0.719146  -0.618205     -0.385171   \n",
      "..           ...             ...            ...        ...           ...   \n",
      "169     0.374563        0.258191      -0.306945  -0.561929     -0.086486   \n",
      "170    -0.864071       -1.066340      -1.224190  -0.151167     -0.416936   \n",
      "171    -0.696459       -1.668917      -0.087774   0.823833     -0.724717   \n",
      "172    -0.695681       -1.972211      -0.071352   0.959096     -0.866325   \n",
      "173    -0.871922       -1.523837       0.071480   1.072244     -0.832185   \n",
      "\n",
      "     gmrt_on_paper6  max_x_extension6  class  \n",
      "0         -1.499122          0.183326      1  \n",
      "1          1.804756          0.408463      1  \n",
      "2          0.994326          0.642387      1  \n",
      "3          1.873245         -1.288196      1  \n",
      "4         -0.059398          1.419650      1  \n",
      "..              ...               ...    ...  \n",
      "169       -0.259431         -0.350460      0  \n",
      "170       -0.391569         -0.252329      0  \n",
      "171       -1.886067          0.228613      0  \n",
      "172       -1.531001         -0.148208      0  \n",
      "173       -1.796029          0.045260      0  \n",
      "\n",
      "[174 rows x 53 columns]\n"
     ]
    },
    {
     "data": {
      "text/plain": [
       "(174, 53)"
      ]
     },
     "execution_count": 22,
     "metadata": {},
     "output_type": "execute_result"
    }
   ],
   "source": [
    "# Separate features and target (if applicable)\n",
    "X = darwin_filtered.drop(['class'], axis=1)  # Replace 'target_column' with your target column name\n",
    "\n",
    "# Save original column names\n",
    "original_columns = X.columns\n",
    "\n",
    "# Standardize the data\n",
    "scaler = StandardScaler()\n",
    "X_scaled = scaler.fit_transform(X)\n",
    "\n",
    "# Perform PCA\n",
    "num_components = 0.80  # Retain 80% of explained variance\n",
    "pca = PCA(n_components=num_components)\n",
    "principal_components = pca.fit_transform(X_scaled)\n",
    "\n",
    "# Create a new DataFrame with the principal components\n",
    "pc_df = pd.DataFrame(data=principal_components, columns=[f'PC{i+1}' for i in range(pca.n_components_)])\n",
    "\n",
    "# Map original column names to PC column names\n",
    "pc_df.columns = [original_columns[i] for i in range(pca.n_components_)]\n",
    "\n",
    "\n",
    "# Attach the target column back\n",
    "pc_df['class'] = darwin_filtered['class']\n",
    "\n",
    "# Display the principal components DataFrame\n",
    "print(pc_df)\n",
    "pc_df.shape"
   ]
  },
  {
   "cell_type": "markdown",
   "id": "1f6c3379-e9d0-464b-a810-4e97923d1241",
   "metadata": {},
   "source": [
    "**Therefore, the dimensions were reduced from originally (174, 452) to (174, 336) to (174, 231) and to finally (174, 53).**"
   ]
  },
  {
   "cell_type": "code",
   "execution_count": 23,
   "id": "c42c753e-568a-4e03-a976-c9cfa6149976",
   "metadata": {
    "tags": []
   },
   "outputs": [],
   "source": [
    "X = pc_df.drop('class', axis=1)  # Features\n",
    "y = pc_df['class']  # Target variable\n",
    "\n",
    "# Split the data into train and test sets\n",
    "test_size = 0.2  # Proportion of data to allocate to the test set\n",
    "random_state = 6  # Seed for reproducibility\n",
    "\n",
    "X_train, X_test, y_train, y_test = train_test_split(X, y, test_size=test_size, random_state=random_state)"
   ]
  },
  {
   "cell_type": "markdown",
   "id": "hH7BSNoK5Zyu",
   "metadata": {
    "id": "hH7BSNoK5Zyu",
    "tags": []
   },
   "source": [
    "# ALGORITHM ONE : XGBoost"
   ]
  },
  {
   "cell_type": "markdown",
   "id": "IW_Z01cP59pB",
   "metadata": {
    "id": "IW_Z01cP59pB"
   },
   "source": [
    "**Train the XGBoost Model:**"
   ]
  },
  {
   "cell_type": "code",
   "execution_count": 24,
   "id": "R0F5OXuk6C6Z",
   "metadata": {
    "id": "R0F5OXuk6C6Z"
   },
   "outputs": [
    {
     "name": "stdout",
     "output_type": "stream",
     "text": [
      "Requirement already satisfied: xgboost in /Users/S.VijayKrishnaSundaran/anaconda3/lib/python3.11/site-packages (2.0.0)\n",
      "Requirement already satisfied: numpy in /Users/S.VijayKrishnaSundaran/anaconda3/lib/python3.11/site-packages (from xgboost) (1.24.3)\n",
      "Requirement already satisfied: scipy in /Users/S.VijayKrishnaSundaran/anaconda3/lib/python3.11/site-packages (from xgboost) (1.11.1)\n"
     ]
    }
   ],
   "source": [
    "!pip install xgboost"
   ]
  },
  {
   "cell_type": "code",
   "execution_count": 25,
   "id": "g61yaLiP6GSJ",
   "metadata": {
    "id": "g61yaLiP6GSJ",
    "tags": []
   },
   "outputs": [],
   "source": [
    "import xgboost as xgb\n",
    "\n",
    "\n",
    "# Define and train the XGBoost model\n",
    "xgb_model = xgb.XGBClassifier(\n",
    "    objective='binary:logistic',  # Binary classification\n",
    "    max_depth=3,  # Maximum depth of trees\n",
    "    learning_rate=0.1,  # Learning rate\n",
    "    n_estimators=100  # Number of boosting rounds\n",
    ")\n",
    "\n",
    "# Train the model\n",
    "xgb_model.fit(X_train, y_train)\n",
    "\n",
    "# Predict on the test set\n",
    "y_pred = xgb_model.predict(X_test)\n"
   ]
  },
  {
   "cell_type": "markdown",
   "id": "b-nqOPV-6LBl",
   "metadata": {
    "id": "b-nqOPV-6LBl"
   },
   "source": [
    "**Model Evaluation:**"
   ]
  },
  {
   "cell_type": "code",
   "execution_count": 26,
   "id": "6Bhw_E2m6ODr",
   "metadata": {
    "id": "6Bhw_E2m6ODr",
    "tags": []
   },
   "outputs": [
    {
     "name": "stdout",
     "output_type": "stream",
     "text": [
      "Accuracy: 0.8857142857142857\n",
      "Classification Report:\n",
      "              precision    recall  f1-score   support\n",
      "\n",
      "           0       0.80      1.00      0.89        16\n",
      "           1       1.00      0.79      0.88        19\n",
      "\n",
      "    accuracy                           0.89        35\n",
      "   macro avg       0.90      0.89      0.89        35\n",
      "weighted avg       0.91      0.89      0.89        35\n",
      "\n"
     ]
    }
   ],
   "source": [
    "# Evaluate the model\n",
    "accuracy = accuracy_score(y_test, y_pred)\n",
    "print(\"Accuracy:\", accuracy)\n",
    "\n",
    "# Classification Report\n",
    "print(\"Classification Report:\")\n",
    "print(classification_report(y_test, y_pred))\n"
   ]
  },
  {
   "cell_type": "markdown",
   "id": "54d8b31e-d48a-44d0-8f4f-cfc126d4dab9",
   "metadata": {},
   "source": [
    "# ALGORITHM TWO : CATBOOSTCLASSIFIER"
   ]
  },
  {
   "cell_type": "markdown",
   "id": "b407de03-b463-4c4c-bd9f-7945615fcb91",
   "metadata": {
    "id": "IW_Z01cP59pB"
   },
   "source": [
    "**Train the CatBoostClassifier Model:**"
   ]
  },
  {
   "cell_type": "code",
   "execution_count": 27,
   "id": "edcc8704",
   "metadata": {},
   "outputs": [
    {
     "name": "stdout",
     "output_type": "stream",
     "text": [
      "Requirement already satisfied: catboost in /Users/S.VijayKrishnaSundaran/anaconda3/lib/python3.11/site-packages (1.2.2)\n",
      "Requirement already satisfied: graphviz in /Users/S.VijayKrishnaSundaran/anaconda3/lib/python3.11/site-packages (from catboost) (0.20.1)\n",
      "Requirement already satisfied: matplotlib in /Users/S.VijayKrishnaSundaran/anaconda3/lib/python3.11/site-packages (from catboost) (3.7.2)\n",
      "Requirement already satisfied: numpy>=1.16.0 in /Users/S.VijayKrishnaSundaran/anaconda3/lib/python3.11/site-packages (from catboost) (1.24.3)\n",
      "Requirement already satisfied: pandas>=0.24 in /Users/S.VijayKrishnaSundaran/anaconda3/lib/python3.11/site-packages (from catboost) (2.0.3)\n",
      "Requirement already satisfied: scipy in /Users/S.VijayKrishnaSundaran/anaconda3/lib/python3.11/site-packages (from catboost) (1.11.1)\n",
      "Requirement already satisfied: plotly in /Users/S.VijayKrishnaSundaran/anaconda3/lib/python3.11/site-packages (from catboost) (5.9.0)\n",
      "Requirement already satisfied: six in /Users/S.VijayKrishnaSundaran/anaconda3/lib/python3.11/site-packages (from catboost) (1.16.0)\n",
      "Requirement already satisfied: python-dateutil>=2.8.2 in /Users/S.VijayKrishnaSundaran/anaconda3/lib/python3.11/site-packages (from pandas>=0.24->catboost) (2.8.2)\n",
      "Requirement already satisfied: pytz>=2020.1 in /Users/S.VijayKrishnaSundaran/anaconda3/lib/python3.11/site-packages (from pandas>=0.24->catboost) (2023.3.post1)\n",
      "Requirement already satisfied: tzdata>=2022.1 in /Users/S.VijayKrishnaSundaran/anaconda3/lib/python3.11/site-packages (from pandas>=0.24->catboost) (2023.3)\n",
      "Requirement already satisfied: contourpy>=1.0.1 in /Users/S.VijayKrishnaSundaran/anaconda3/lib/python3.11/site-packages (from matplotlib->catboost) (1.0.5)\n",
      "Requirement already satisfied: cycler>=0.10 in /Users/S.VijayKrishnaSundaran/anaconda3/lib/python3.11/site-packages (from matplotlib->catboost) (0.11.0)\n",
      "Requirement already satisfied: fonttools>=4.22.0 in /Users/S.VijayKrishnaSundaran/anaconda3/lib/python3.11/site-packages (from matplotlib->catboost) (4.25.0)\n",
      "Requirement already satisfied: kiwisolver>=1.0.1 in /Users/S.VijayKrishnaSundaran/anaconda3/lib/python3.11/site-packages (from matplotlib->catboost) (1.4.4)\n",
      "Requirement already satisfied: packaging>=20.0 in /Users/S.VijayKrishnaSundaran/anaconda3/lib/python3.11/site-packages (from matplotlib->catboost) (23.1)\n",
      "Requirement already satisfied: pillow>=6.2.0 in /Users/S.VijayKrishnaSundaran/anaconda3/lib/python3.11/site-packages (from matplotlib->catboost) (9.4.0)\n",
      "Requirement already satisfied: pyparsing<3.1,>=2.3.1 in /Users/S.VijayKrishnaSundaran/anaconda3/lib/python3.11/site-packages (from matplotlib->catboost) (3.0.9)\n",
      "Requirement already satisfied: tenacity>=6.2.0 in /Users/S.VijayKrishnaSundaran/anaconda3/lib/python3.11/site-packages (from plotly->catboost) (8.2.2)\n"
     ]
    }
   ],
   "source": [
    "!pip install catboost"
   ]
  },
  {
   "cell_type": "code",
   "execution_count": 28,
   "id": "ea9d5a16-c4a5-404e-8891-b5e5b0f6072f",
   "metadata": {},
   "outputs": [
    {
     "name": "stdout",
     "output_type": "stream",
     "text": [
      "0:\tlearn: 0.6407874\ttotal: 59.3ms\tremaining: 4.09s\n",
      "1:\tlearn: 0.5973161\ttotal: 59.9ms\tremaining: 2.04s\n",
      "2:\tlearn: 0.5663787\ttotal: 60.6ms\tremaining: 1.35s\n",
      "3:\tlearn: 0.5575601\ttotal: 61.2ms\tremaining: 1.01s\n",
      "4:\tlearn: 0.5185734\ttotal: 61.9ms\tremaining: 805ms\n",
      "5:\tlearn: 0.4921407\ttotal: 62.4ms\tremaining: 666ms\n",
      "6:\tlearn: 0.4665071\ttotal: 63ms\tremaining: 567ms\n",
      "7:\tlearn: 0.4515769\ttotal: 63.7ms\tremaining: 494ms\n",
      "8:\tlearn: 0.4377416\ttotal: 64.2ms\tremaining: 435ms\n",
      "9:\tlearn: 0.4264385\ttotal: 64.8ms\tremaining: 389ms\n",
      "10:\tlearn: 0.4172183\ttotal: 65.3ms\tremaining: 350ms\n",
      "11:\tlearn: 0.3964225\ttotal: 65.9ms\tremaining: 318ms\n",
      "12:\tlearn: 0.3832411\ttotal: 66.5ms\tremaining: 292ms\n",
      "13:\tlearn: 0.3649010\ttotal: 67.1ms\tremaining: 268ms\n",
      "14:\tlearn: 0.3448955\ttotal: 67.6ms\tremaining: 248ms\n",
      "15:\tlearn: 0.3382943\ttotal: 68.1ms\tremaining: 230ms\n",
      "16:\tlearn: 0.3296449\ttotal: 68.7ms\tremaining: 214ms\n",
      "17:\tlearn: 0.3217882\ttotal: 69.5ms\tremaining: 201ms\n",
      "18:\tlearn: 0.3146301\ttotal: 70ms\tremaining: 188ms\n",
      "19:\tlearn: 0.3023668\ttotal: 70.6ms\tremaining: 176ms\n",
      "20:\tlearn: 0.2930364\ttotal: 71ms\tremaining: 166ms\n",
      "21:\tlearn: 0.2773987\ttotal: 71.6ms\tremaining: 156ms\n",
      "22:\tlearn: 0.2719756\ttotal: 72ms\tremaining: 147ms\n",
      "23:\tlearn: 0.2664103\ttotal: 72.5ms\tremaining: 139ms\n",
      "24:\tlearn: 0.2606249\ttotal: 73ms\tremaining: 131ms\n",
      "25:\tlearn: 0.2525093\ttotal: 73.4ms\tremaining: 124ms\n",
      "26:\tlearn: 0.2485712\ttotal: 73.9ms\tremaining: 118ms\n",
      "27:\tlearn: 0.2419023\ttotal: 74.3ms\tremaining: 111ms\n",
      "28:\tlearn: 0.2324070\ttotal: 74.7ms\tremaining: 106ms\n",
      "29:\tlearn: 0.2273823\ttotal: 75.1ms\tremaining: 100ms\n",
      "30:\tlearn: 0.2254114\ttotal: 75.5ms\tremaining: 95ms\n",
      "31:\tlearn: 0.2206301\ttotal: 75.9ms\tremaining: 90.2ms\n",
      "32:\tlearn: 0.2175451\ttotal: 76.4ms\tremaining: 85.6ms\n",
      "33:\tlearn: 0.2149834\ttotal: 76.8ms\tremaining: 81.3ms\n",
      "34:\tlearn: 0.2089946\ttotal: 77.2ms\tremaining: 77.2ms\n",
      "35:\tlearn: 0.2043799\ttotal: 77.7ms\tremaining: 73.3ms\n",
      "36:\tlearn: 0.1958713\ttotal: 78.1ms\tremaining: 69.6ms\n",
      "37:\tlearn: 0.1909360\ttotal: 79.1ms\tremaining: 66.6ms\n",
      "38:\tlearn: 0.1889081\ttotal: 79.6ms\tremaining: 63.3ms\n",
      "39:\tlearn: 0.1840509\ttotal: 80ms\tremaining: 60ms\n",
      "40:\tlearn: 0.1795691\ttotal: 80.4ms\tremaining: 56.9ms\n",
      "41:\tlearn: 0.1767804\ttotal: 80.9ms\tremaining: 53.9ms\n",
      "42:\tlearn: 0.1680649\ttotal: 81.2ms\tremaining: 51ms\n",
      "43:\tlearn: 0.1645889\ttotal: 81.7ms\tremaining: 48.3ms\n",
      "44:\tlearn: 0.1590150\ttotal: 82.2ms\tremaining: 45.6ms\n",
      "45:\tlearn: 0.1549425\ttotal: 82.6ms\tremaining: 43.1ms\n",
      "46:\tlearn: 0.1494107\ttotal: 83.1ms\tremaining: 40.7ms\n",
      "47:\tlearn: 0.1440482\ttotal: 83.6ms\tremaining: 38.3ms\n",
      "48:\tlearn: 0.1390294\ttotal: 84ms\tremaining: 36ms\n",
      "49:\tlearn: 0.1344128\ttotal: 84.4ms\tremaining: 33.8ms\n",
      "50:\tlearn: 0.1308101\ttotal: 84.9ms\tremaining: 31.6ms\n",
      "51:\tlearn: 0.1274514\ttotal: 85.3ms\tremaining: 29.5ms\n",
      "52:\tlearn: 0.1255351\ttotal: 85.7ms\tremaining: 27.5ms\n",
      "53:\tlearn: 0.1239770\ttotal: 86.1ms\tremaining: 25.5ms\n",
      "54:\tlearn: 0.1226603\ttotal: 86.5ms\tremaining: 23.6ms\n",
      "55:\tlearn: 0.1192543\ttotal: 87ms\tremaining: 21.7ms\n",
      "56:\tlearn: 0.1155257\ttotal: 87.4ms\tremaining: 19.9ms\n",
      "57:\tlearn: 0.1125100\ttotal: 87.8ms\tremaining: 18.2ms\n",
      "58:\tlearn: 0.1086592\ttotal: 88.3ms\tremaining: 16.5ms\n",
      "59:\tlearn: 0.1045834\ttotal: 88.6ms\tremaining: 14.8ms\n",
      "60:\tlearn: 0.0999344\ttotal: 89.1ms\tremaining: 13.2ms\n",
      "61:\tlearn: 0.0982688\ttotal: 89.7ms\tremaining: 11.6ms\n",
      "62:\tlearn: 0.0947754\ttotal: 90.2ms\tremaining: 10ms\n",
      "63:\tlearn: 0.0937283\ttotal: 90.7ms\tremaining: 8.51ms\n",
      "64:\tlearn: 0.0911549\ttotal: 91.1ms\tremaining: 7.01ms\n",
      "65:\tlearn: 0.0886539\ttotal: 91.5ms\tremaining: 5.55ms\n",
      "66:\tlearn: 0.0867399\ttotal: 91.9ms\tremaining: 4.12ms\n",
      "67:\tlearn: 0.0833922\ttotal: 92.3ms\tremaining: 2.72ms\n",
      "68:\tlearn: 0.0807176\ttotal: 92.9ms\tremaining: 1.34ms\n",
      "69:\tlearn: 0.0778910\ttotal: 93.3ms\tremaining: 0us\n"
     ]
    }
   ],
   "source": [
    "# Define and train the CatBoost model\n",
    "catboost_model = CatBoostClassifier(\n",
    "    iterations=70,  # Number of boosting rounds\n",
    "    learning_rate=0.1,  # Learning rate\n",
    "    depth=3  # Maximum depth of trees\n",
    ")\n",
    "\n",
    "# Train the model\n",
    "catboost_model.fit(X_train, y_train)\n",
    "\n",
    "# Predict on the test set\n",
    "y_pred = catboost_model.predict(X_test)"
   ]
  },
  {
   "cell_type": "markdown",
   "id": "3bc410c9-64d8-4cc9-8322-b56ce3290486",
   "metadata": {},
   "source": [
    "**Model Evaluation**"
   ]
  },
  {
   "cell_type": "code",
   "execution_count": 29,
   "id": "3ec0a91d-fdd9-466b-be85-8687f733d8c0",
   "metadata": {
    "id": "6Bhw_E2m6ODr",
    "tags": []
   },
   "outputs": [
    {
     "name": "stdout",
     "output_type": "stream",
     "text": [
      "Accuracy: 0.9428571428571428\n",
      "Classification Report:\n",
      "              precision    recall  f1-score   support\n",
      "\n",
      "           0       0.94      0.94      0.94        16\n",
      "           1       0.95      0.95      0.95        19\n",
      "\n",
      "    accuracy                           0.94        35\n",
      "   macro avg       0.94      0.94      0.94        35\n",
      "weighted avg       0.94      0.94      0.94        35\n",
      "\n"
     ]
    }
   ],
   "source": [
    "# Evaluate the model\n",
    "accuracy = accuracy_score(y_test, y_pred)\n",
    "print(\"Accuracy:\", accuracy)\n",
    "\n",
    "# Classification Report\n",
    "print(\"Classification Report:\")\n",
    "print(classification_report(y_test, y_pred))"
   ]
  }
 ],
 "metadata": {
  "colab": {
   "provenance": []
  },
  "kernelspec": {
   "display_name": "Python 3 (ipykernel)",
   "language": "python",
   "name": "python3"
  },
  "language_info": {
   "codemirror_mode": {
    "name": "ipython",
    "version": 3
   },
   "file_extension": ".py",
   "mimetype": "text/x-python",
   "name": "python",
   "nbconvert_exporter": "python",
   "pygments_lexer": "ipython3",
   "version": "3.11.5"
  }
 },
 "nbformat": 4,
 "nbformat_minor": 5
}
